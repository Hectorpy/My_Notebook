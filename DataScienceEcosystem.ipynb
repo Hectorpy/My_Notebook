{
 "cells": [
  {
   "cell_type": "markdown",
   "id": "09a959e9",
   "metadata": {},
   "source": [
    "# Data Science Tools and Ecosystem\n"
   ]
  },
  {
   "cell_type": "markdown",
   "id": "287af010",
   "metadata": {},
   "source": [
    "In this notebook, Data Science Tools and Ecosystem are summarized."
   ]
  },
  {
   "cell_type": "markdown",
   "id": "0ddc5cd8",
   "metadata": {},
   "source": [
    "Some of the popular languages that Data Scientists use are: "
   ]
  },
  {
   "cell_type": "markdown",
   "id": "30c1d98f",
   "metadata": {},
   "source": [
    "| Languages |\n",
    "| --- |\n",
    "| RStudio |\n",
    "| Python |\n",
    "| Oracle |"
   ]
  },
  {
   "cell_type": "markdown",
   "id": "96a12ceb",
   "metadata": {},
   "source": [
    "# DATA SCIENCE TOOLS"
   ]
  },
  {
   "cell_type": "markdown",
   "id": "080eb579",
   "metadata": {},
   "source": [
    "| Tools |\n",
    "| --- |\n",
    "| RStudio |\n",
    "| Apache Spark |\n",
    "| TensorFlow |\n"
   ]
  },
  {
   "cell_type": "markdown",
   "id": "c156d12f",
   "metadata": {},
   "source": [
    "### Below are a few examples of evaluating arithmetic expressions in Python"
   ]
  },
  {
   "cell_type": "code",
   "execution_count": 3,
   "id": "2c93fa79",
   "metadata": {},
   "outputs": [
    {
     "data": {
      "text/plain": [
       "17"
      ]
     },
     "execution_count": 3,
     "metadata": {},
     "output_type": "execute_result"
    }
   ],
   "source": [
    "(3*4)+5\n",
    "#This a simple arithmetic expression to mutiply then add integers"
   ]
  },
  {
   "cell_type": "code",
   "execution_count": 5,
   "id": "c48b42a5",
   "metadata": {},
   "outputs": [
    {
     "name": "stdout",
     "output_type": "stream",
     "text": [
      "200 minutes equals 3 hours and 20 minutes.\n"
     ]
    }
   ],
   "source": [
    "a = 200\n",
    "b = a // 60\n",
    "c = a % 60\n",
    "print(f\"200 minutes equals {b} hours and {c} minutes.\")\n",
    "# This will convert 200 minutes to hours by diving by 60"
   ]
  },
  {
   "cell_type": "markdown",
   "id": "d9f33216",
   "metadata": {},
   "source": [
    "## Author\n",
    "Heitor Ribeiro Mota\n"
   ]
  },
  {
   "cell_type": "code",
   "execution_count": null,
   "id": "ca68c639",
   "metadata": {},
   "outputs": [],
   "source": []
  }
 ],
 "metadata": {
  "kernelspec": {
   "display_name": "Python 3 (ipykernel)",
   "language": "python",
   "name": "python3"
  },
  "language_info": {
   "codemirror_mode": {
    "name": "ipython",
    "version": 3
   },
   "file_extension": ".py",
   "mimetype": "text/x-python",
   "name": "python",
   "nbconvert_exporter": "python",
   "pygments_lexer": "ipython3",
   "version": "3.11.4"
  }
 },
 "nbformat": 4,
 "nbformat_minor": 5
}
