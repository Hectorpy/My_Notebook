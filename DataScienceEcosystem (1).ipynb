{
 "cells": [
  {
   "cell_type": "markdown",
   "id": "9b149fbe",
   "metadata": {},
   "source": [
    "# Data Science Tools and Ecosystem\n"
   ]
  },
  {
   "cell_type": "markdown",
   "id": "f7cb1017",
   "metadata": {},
   "source": [
    "In this notebook, Data Science Tools and Ecosystem are summarized."
   ]
  },
  {
   "cell_type": "markdown",
   "id": "cbb2daf0",
   "metadata": {},
   "source": [
    "Some of the popular languages that Data Scientists use are: "
   ]
  },
  {
   "cell_type": "markdown",
   "id": "16ee5659",
   "metadata": {},
   "source": [
    "| Languages |\n",
    "| --- |\n",
    "| RStudio |\n",
    "| Python |\n",
    "| Oracle |"
   ]
  },
  {
   "cell_type": "markdown",
   "id": "5c4cf1d7",
   "metadata": {},
   "source": [
    "Some of the commonly used libraries used by Data Scientists include:\n",
    "| Libraries |\n",
    "| --- |\n",
    "| Pandas |\n",
    "| NumPy |\n",
    "| Keras |"
   ]
  },
  {
   "cell_type": "markdown",
   "id": "72f4f62a",
   "metadata": {},
   "source": [
    "# DATA SCIENCE TOOLS"
   ]
  },
  {
   "cell_type": "markdown",
   "id": "fac4b48e",
   "metadata": {},
   "source": [
    "| Tools |\n",
    "| --- |\n",
    "| RStudio |\n",
    "| Apache Spark |\n",
    "| TensorFlow |\n"
   ]
  },
  {
   "cell_type": "markdown",
   "id": "08b2d9dd",
   "metadata": {},
   "source": [
    "### Below are a few examples of evaluating arithmetic expressions in Python"
   ]
  },
  {
   "cell_type": "code",
   "execution_count": 3,
   "id": "67b60922",
   "metadata": {},
   "outputs": [
    {
     "data": {
      "text/plain": [
       "17"
      ]
     },
     "execution_count": 3,
     "metadata": {},
     "output_type": "execute_result"
    }
   ],
   "source": [
    "(3*4)+5\n",
    "#This a simple arithmetic expression to mutiply then add integers"
   ]
  },
  {
   "cell_type": "code",
   "execution_count": 5,
   "id": "4476f9e2",
   "metadata": {},
   "outputs": [
    {
     "name": "stdout",
     "output_type": "stream",
     "text": [
      "200 minutes equals 3 hours and 20 minutes.\n"
     ]
    }
   ],
   "source": [
    "a = 200\n",
    "b = a // 60\n",
    "c = a % 60\n",
    "print(f\"200 minutes equals {b} hours and {c} minutes.\")\n",
    "# This will convert 200 minutes to hours by diving by 60"
   ]
  },
  {
   "cell_type": "markdown",
   "id": "b0c548c8",
   "metadata": {},
   "source": [
    "## Author\n",
    "Heitor Ribeiro Mota\n"
   ]
  },
  {
   "cell_type": "code",
   "execution_count": null,
   "id": "008451e0",
   "metadata": {},
   "outputs": [],
   "source": []
  }
 ],
 "metadata": {
  "kernelspec": {
   "display_name": "Python 3 (ipykernel)",
   "language": "python",
   "name": "python3"
  },
  "language_info": {
   "codemirror_mode": {
    "name": "ipython",
    "version": 3
   },
   "file_extension": ".py",
   "mimetype": "text/x-python",
   "name": "python",
   "nbconvert_exporter": "python",
   "pygments_lexer": "ipython3",
   "version": "3.11.4"
  }
 },
 "nbformat": 4,
 "nbformat_minor": 5
}
